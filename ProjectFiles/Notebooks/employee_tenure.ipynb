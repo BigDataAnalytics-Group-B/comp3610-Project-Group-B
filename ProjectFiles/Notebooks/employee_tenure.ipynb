{
 "cells": [
  {
   "cell_type": "markdown",
   "metadata": {
    "id": "zK_8zaqfxM9Q"
   },
   "source": [
    "# BIG DATA ANALYTICS - Project - GROUP B\n",
    "\n",
    "## Group Members\n",
    "\n",
    "| Student Name | Student ID |\n",
    "|----------|----------|\n",
    "| Allyssa Sampath    | 816032362     |\n",
    "| Avinash Roopnarine    | 816029635     |\n",
    "| Jared Heeralal    | 816030252     |\n",
    "| Kimberly Moses   | 816031494     |\n"
   ]
  },
  {
   "cell_type": "code",
   "execution_count": 27,
   "metadata": {
    "id": "fXRDGH5cyeWy"
   },
   "outputs": [],
   "source": [
    "import pandas as pd\n",
    "import numpy as np\n",
    "import seaborn as sns\n",
    "import matplotlib.pyplot as plt\n",
    "from sklearn.cluster import KMeans\n",
    "from sklearn.preprocessing import StandardScaler\n",
    "from sklearn.metrics import silhouette_score"
   ]
  },
  {
   "cell_type": "code",
   "execution_count": 28,
   "metadata": {
    "colab": {
     "base_uri": "https://localhost:8080/",
     "height": 226
    },
    "id": "-NXH6ZWhyLju",
    "outputId": "d5f923b4-3f9e-4892-da42-ec069a63931c"
   },
   "outputs": [
    {
     "data": {
      "text/html": [
       "<div>\n",
       "<style scoped>\n",
       "    .dataframe tbody tr th:only-of-type {\n",
       "        vertical-align: middle;\n",
       "    }\n",
       "\n",
       "    .dataframe tbody tr th {\n",
       "        vertical-align: top;\n",
       "    }\n",
       "\n",
       "    .dataframe thead th {\n",
       "        text-align: right;\n",
       "    }\n",
       "</style>\n",
       "<table border=\"1\" class=\"dataframe\">\n",
       "  <thead>\n",
       "    <tr style=\"text-align: right;\">\n",
       "      <th></th>\n",
       "      <th>Emp_Id</th>\n",
       "      <th>satisfaction_level</th>\n",
       "      <th>last_evaluation</th>\n",
       "      <th>number_project</th>\n",
       "      <th>average_montly_hours</th>\n",
       "      <th>time_spend_company</th>\n",
       "      <th>Work_accident</th>\n",
       "      <th>left</th>\n",
       "      <th>promotion_last_5years</th>\n",
       "      <th>Department</th>\n",
       "      <th>salary</th>\n",
       "    </tr>\n",
       "  </thead>\n",
       "  <tbody>\n",
       "    <tr>\n",
       "      <th>0</th>\n",
       "      <td>IND02438</td>\n",
       "      <td>0.38</td>\n",
       "      <td>0.53</td>\n",
       "      <td>2</td>\n",
       "      <td>157</td>\n",
       "      <td>3</td>\n",
       "      <td>0</td>\n",
       "      <td>1</td>\n",
       "      <td>0</td>\n",
       "      <td>sales</td>\n",
       "      <td>low</td>\n",
       "    </tr>\n",
       "    <tr>\n",
       "      <th>1</th>\n",
       "      <td>IND28133</td>\n",
       "      <td>0.80</td>\n",
       "      <td>0.86</td>\n",
       "      <td>5</td>\n",
       "      <td>262</td>\n",
       "      <td>6</td>\n",
       "      <td>0</td>\n",
       "      <td>1</td>\n",
       "      <td>0</td>\n",
       "      <td>sales</td>\n",
       "      <td>medium</td>\n",
       "    </tr>\n",
       "    <tr>\n",
       "      <th>2</th>\n",
       "      <td>IND07164</td>\n",
       "      <td>0.11</td>\n",
       "      <td>0.88</td>\n",
       "      <td>7</td>\n",
       "      <td>272</td>\n",
       "      <td>4</td>\n",
       "      <td>0</td>\n",
       "      <td>1</td>\n",
       "      <td>0</td>\n",
       "      <td>sales</td>\n",
       "      <td>medium</td>\n",
       "    </tr>\n",
       "    <tr>\n",
       "      <th>3</th>\n",
       "      <td>IND30478</td>\n",
       "      <td>0.72</td>\n",
       "      <td>0.87</td>\n",
       "      <td>5</td>\n",
       "      <td>223</td>\n",
       "      <td>5</td>\n",
       "      <td>0</td>\n",
       "      <td>1</td>\n",
       "      <td>0</td>\n",
       "      <td>sales</td>\n",
       "      <td>low</td>\n",
       "    </tr>\n",
       "    <tr>\n",
       "      <th>4</th>\n",
       "      <td>IND24003</td>\n",
       "      <td>0.37</td>\n",
       "      <td>0.52</td>\n",
       "      <td>2</td>\n",
       "      <td>159</td>\n",
       "      <td>3</td>\n",
       "      <td>0</td>\n",
       "      <td>1</td>\n",
       "      <td>0</td>\n",
       "      <td>sales</td>\n",
       "      <td>low</td>\n",
       "    </tr>\n",
       "  </tbody>\n",
       "</table>\n",
       "</div>"
      ],
      "text/plain": [
       "     Emp_Id  satisfaction_level  last_evaluation  number_project  \\\n",
       "0  IND02438                0.38             0.53               2   \n",
       "1  IND28133                0.80             0.86               5   \n",
       "2  IND07164                0.11             0.88               7   \n",
       "3  IND30478                0.72             0.87               5   \n",
       "4  IND24003                0.37             0.52               2   \n",
       "\n",
       "   average_montly_hours  time_spend_company  Work_accident  left  \\\n",
       "0                   157                   3              0     1   \n",
       "1                   262                   6              0     1   \n",
       "2                   272                   4              0     1   \n",
       "3                   223                   5              0     1   \n",
       "4                   159                   3              0     1   \n",
       "\n",
       "   promotion_last_5years Department  salary  \n",
       "0                      0      sales     low  \n",
       "1                      0      sales  medium  \n",
       "2                      0      sales  medium  \n",
       "3                      0      sales     low  \n",
       "4                      0      sales     low  "
      ]
     },
     "execution_count": 28,
     "metadata": {},
     "output_type": "execute_result"
    }
   ],
   "source": [
    "df = pd.read_excel('../Dataset/HR_Employee_Data.xlsx')\n",
    "\n",
    "df.head()"
   ]
  },
  {
   "cell_type": "code",
   "execution_count": 29,
   "metadata": {
    "colab": {
     "base_uri": "https://localhost:8080/"
    },
    "id": "VGaCop1SyoDo",
    "outputId": "0d1ec544-d3f0-475a-eac2-159123df694a"
   },
   "outputs": [
    {
     "name": "stdout",
     "output_type": "stream",
     "text": [
      "<class 'pandas.core.frame.DataFrame'>\n",
      "RangeIndex: 14999 entries, 0 to 14998\n",
      "Data columns (total 11 columns):\n",
      " #   Column                 Non-Null Count  Dtype  \n",
      "---  ------                 --------------  -----  \n",
      " 0   Emp_Id                 14999 non-null  object \n",
      " 1   satisfaction_level     14999 non-null  float64\n",
      " 2   last_evaluation        14999 non-null  float64\n",
      " 3   number_project         14999 non-null  int64  \n",
      " 4   average_montly_hours   14999 non-null  int64  \n",
      " 5   time_spend_company     14999 non-null  int64  \n",
      " 6   Work_accident          14999 non-null  int64  \n",
      " 7   left                   14999 non-null  int64  \n",
      " 8   promotion_last_5years  14999 non-null  int64  \n",
      " 9   Department             14999 non-null  object \n",
      " 10  salary                 14999 non-null  object \n",
      "dtypes: float64(2), int64(6), object(3)\n",
      "memory usage: 1.3+ MB\n"
     ]
    }
   ],
   "source": [
    "df.info()"
   ]
  },
  {
   "cell_type": "code",
   "execution_count": 30,
   "metadata": {},
   "outputs": [
    {
     "name": "stdout",
     "output_type": "stream",
     "text": [
      "left\n",
      "0    11428\n",
      "1     3571\n",
      "Name: count, dtype: int64\n"
     ]
    }
   ],
   "source": [
    "print(df['left'].value_counts())"
   ]
  },
  {
   "cell_type": "markdown",
   "metadata": {
    "id": "McZVF3OTlxy_"
   },
   "source": [
    "#Cleaning"
   ]
  },
  {
   "cell_type": "code",
   "execution_count": 31,
   "metadata": {
    "colab": {
     "base_uri": "https://localhost:8080/",
     "height": 443
    },
    "id": "UySDsREepF34",
    "outputId": "417418ba-0226-47e2-ae66-85828fb14283"
   },
   "outputs": [],
   "source": [
    "import sys\n",
    "sys.path.insert(0, '../DataPreprocessing')\n",
    "from data_cleaning import *\n",
    "\n",
    "df = df.drop(['Emp_Id'], axis=1)\n",
    "\n",
    "#One hot encode Department and salary\n",
    "df = one_hot_encode(df)"
   ]
  },
  {
   "cell_type": "code",
   "execution_count": 32,
   "metadata": {
    "colab": {
     "base_uri": "https://localhost:8080/"
    },
    "id": "vcsFYk6uqEWq",
    "outputId": "ff3f44d2-219d-456d-aec2-b2ec252f8c6f"
   },
   "outputs": [
    {
     "name": "stdout",
     "output_type": "stream",
     "text": [
      "<class 'pandas.core.frame.DataFrame'>\n",
      "RangeIndex: 14999 entries, 0 to 14998\n",
      "Data columns (total 21 columns):\n",
      " #   Column                  Non-Null Count  Dtype  \n",
      "---  ------                  --------------  -----  \n",
      " 0   satisfaction_level      14999 non-null  float64\n",
      " 1   last_evaluation         14999 non-null  float64\n",
      " 2   number_project          14999 non-null  int64  \n",
      " 3   average_montly_hours    14999 non-null  int64  \n",
      " 4   time_spend_company      14999 non-null  int64  \n",
      " 5   Work_accident           14999 non-null  int64  \n",
      " 6   left                    14999 non-null  int64  \n",
      " 7   promotion_last_5years   14999 non-null  int64  \n",
      " 8   Department_IT           14999 non-null  bool   \n",
      " 9   Department_RandD        14999 non-null  bool   \n",
      " 10  Department_accounting   14999 non-null  bool   \n",
      " 11  Department_hr           14999 non-null  bool   \n",
      " 12  Department_management   14999 non-null  bool   \n",
      " 13  Department_marketing    14999 non-null  bool   \n",
      " 14  Department_product_mng  14999 non-null  bool   \n",
      " 15  Department_sales        14999 non-null  bool   \n",
      " 16  Department_support      14999 non-null  bool   \n",
      " 17  Department_technical    14999 non-null  bool   \n",
      " 18  salary_high             14999 non-null  bool   \n",
      " 19  salary_low              14999 non-null  bool   \n",
      " 20  salary_medium           14999 non-null  bool   \n",
      "dtypes: bool(13), float64(2), int64(6)\n",
      "memory usage: 1.1 MB\n"
     ]
    }
   ],
   "source": [
    "df.info()"
   ]
  },
  {
   "cell_type": "code",
   "execution_count": 33,
   "metadata": {},
   "outputs": [
    {
     "name": "stdout",
     "output_type": "stream",
     "text": [
      "Random Forest Feature Importances (Higher = More Important for Longer Tenure):\n",
      "                   Feature  Importance_RF\n",
      "0       satisfaction_level       0.254485\n",
      "3     average_montly_hours       0.250691\n",
      "1          last_evaluation       0.188767\n",
      "2           number_project       0.078392\n",
      "4            Work_accident       0.029060\n",
      "10   Department_management       0.024125\n",
      "16             salary_high       0.020279\n",
      "13        Department_sales       0.019770\n",
      "18           salary_medium       0.018172\n",
      "17              salary_low       0.017209\n",
      "5    promotion_last_5years       0.014266\n",
      "14      Department_support       0.013829\n",
      "11    Department_marketing       0.013197\n",
      "6            Department_IT       0.012828\n",
      "15    Department_technical       0.011989\n",
      "8    Department_accounting       0.010165\n",
      "12  Department_product_mng       0.009657\n",
      "7         Department_RandD       0.007063\n",
      "9            Department_hr       0.006055\n",
      "\n",
      "Gradient Boosting Feature Importances (Higher = More Important for Longer Tenure):\n",
      "                   Feature  Importance_GBM\n",
      "0       satisfaction_level        0.307444\n",
      "3     average_montly_hours        0.163980\n",
      "1          last_evaluation        0.157205\n",
      "2           number_project        0.128977\n",
      "10   Department_management        0.110243\n",
      "16             salary_high        0.033290\n",
      "5    promotion_last_5years        0.028188\n",
      "4            Work_accident        0.022639\n",
      "17              salary_low        0.020827\n",
      "14      Department_support        0.008752\n",
      "13        Department_sales        0.005911\n",
      "11    Department_marketing        0.004556\n",
      "15    Department_technical        0.003683\n",
      "18           salary_medium        0.001548\n",
      "7         Department_RandD        0.001015\n",
      "9            Department_hr        0.000835\n",
      "12  Department_product_mng        0.000761\n",
      "8    Department_accounting        0.000141\n",
      "6            Department_IT        0.000006\n",
      "\n",
      "Linear Regression Coefficients (Higher Absolute Value = More Important, Positive = Longer Tenure):\n",
      "                   Feature  Coefficient_Linear\n",
      "10   Department_management            0.751787\n",
      "1          last_evaluation            0.711399\n",
      "0       satisfaction_level           -0.528943\n",
      "5    promotion_last_5years            0.453036\n",
      "7         Department_RandD           -0.184163\n",
      "2           number_project            0.163461\n",
      "15    Department_technical           -0.156549\n",
      "9            Department_hr           -0.152096\n",
      "14      Department_support           -0.149437\n",
      "17              salary_low           -0.082352\n",
      "6            Department_IT           -0.068013\n",
      "16             salary_high            0.067536\n",
      "12  Department_product_mng           -0.062298\n",
      "4            Work_accident            0.051142\n",
      "11    Department_marketing            0.028705\n",
      "8    Department_accounting           -0.023951\n",
      "13        Department_sales            0.016016\n",
      "18           salary_medium            0.014816\n",
      "3     average_montly_hours            0.001202\n",
      "\n",
      "Logistic Regression Coefficients (Higher = More Likely Above Median Tenure):\n",
      "                   Feature  Coefficient_Logistic\n",
      "1          last_evaluation              1.949615\n",
      "2           number_project              0.560993\n",
      "5    promotion_last_5years              0.208522\n",
      "10   Department_management              0.108604\n",
      "3     average_montly_hours              0.005597\n",
      "4            Work_accident             -0.044708\n",
      "11    Department_marketing             -0.235639\n",
      "8    Department_accounting             -0.266375\n",
      "13        Department_sales             -0.275582\n",
      "12  Department_product_mng             -0.346013\n",
      "6            Department_IT             -0.347192\n",
      "9            Department_hr             -0.359613\n",
      "7         Department_RandD             -0.377522\n",
      "15    Department_technical             -0.391173\n",
      "14      Department_support             -0.463365\n",
      "18           salary_medium             -0.904735\n",
      "17              salary_low             -0.989747\n",
      "16             salary_high             -1.059389\n",
      "0       satisfaction_level             -1.630657\n"
     ]
    }
   ],
   "source": [
    "from sklearn.model_selection import train_test_split\n",
    "from sklearn.ensemble import RandomForestRegressor, GradientBoostingRegressor\n",
    "from sklearn.linear_model import LinearRegression, LogisticRegression\n",
    "import numpy as np\n",
    "import pandas as pd\n",
    "\n",
    "# Assuming 'df' is your DataFrame\n",
    "y = df['time_spend_company']  # Target variable for regression\n",
    "X = df.drop(columns=['time_spend_company', 'left'])  # Features\n",
    "\n",
    "# Split the data into training and testing sets\n",
    "X_train, X_test, y_train, y_test = train_test_split(X, y, test_size=0.2, random_state=42)\n",
    "\n",
    "# Initialize and fit the models\n",
    "rf_regressor = RandomForestRegressor(n_estimators=100, random_state=42).fit(X_train, y_train)\n",
    "gbm_regressor = GradientBoostingRegressor(n_estimators=100, random_state=42).fit(X_train, y_train)\n",
    "linear_reg = LinearRegression().fit(X_train, y_train)\n",
    "logistic_reg = LogisticRegression(max_iter=1000, random_state=42).fit(X_train, (y_train > np.median(y_train)).astype(int))  # Assuming binary classification\n",
    "\n",
    "# Extract feature importances or coefficients\n",
    "features = X_train.columns\n",
    "rf_results = pd.DataFrame({'Feature': features, 'Importance_RF': rf_regressor.feature_importances_}).sort_values(by='Importance_RF', ascending=False)\n",
    "gbm_results = pd.DataFrame({'Feature': features, 'Importance_GBM': gbm_regressor.feature_importances_}).sort_values(by='Importance_GBM', ascending=False)\n",
    "linear_results = pd.DataFrame({'Feature': features, 'Coefficient_Linear': linear_reg.coef_}).sort_values(by='Coefficient_Linear', ascending=False, key=lambda col: abs(col))\n",
    "logistic_results = pd.DataFrame({'Feature': features, 'Coefficient_Logistic': logistic_reg.coef_[0]}).sort_values(by='Coefficient_Logistic', ascending=False)\n",
    "\n",
    "# Print the sorted results\n",
    "print(\"Random Forest Feature Importances (Higher = More Important for Longer Tenure):\")\n",
    "print(rf_results)\n",
    "print(\"\\nGradient Boosting Feature Importances (Higher = More Important for Longer Tenure):\")\n",
    "print(gbm_results)\n",
    "print(\"\\nLinear Regression Coefficients (Higher Absolute Value = More Important, Positive = Longer Tenure):\")\n",
    "print(linear_results)\n",
    "print(\"\\nLogistic Regression Coefficients (Higher = More Likely Above Median Tenure):\")\n",
    "print(logistic_results)\n"
   ]
  },
  {
   "cell_type": "code",
   "execution_count": 35,
   "metadata": {
    "scrolled": false
   },
   "outputs": [
    {
     "name": "stdout",
     "output_type": "stream",
     "text": [
      "Linear Regression - Root Mean Squared Error: 0.49810068923964246\n",
      "Random Forest Regression - Root Mean Squared Error: 0.33572966147542815\n",
      "Gradient Boosting Regression - Root Mean Squared Error: 0.4150487049015014\n",
      "Neural Network Regression - Root Mean Squared Error: 0.4231464392120119\n",
      "Support Vector Regression - Root Mean Squared Error: 0.47854425510485604\n"
     ]
    },
    {
     "name": "stderr",
     "output_type": "stream",
     "text": [
      "C:\\Users\\Allyssa\\AppData\\Local\\Temp\\ipykernel_28400\\2191950162.py:49: SettingWithCopyWarning: \n",
      "A value is trying to be set on a copy of a slice from a DataFrame.\n",
      "Try using .loc[row_indexer,col_indexer] = value instead\n",
      "\n",
      "See the caveats in the documentation: https://pandas.pydata.org/pandas-docs/stable/user_guide/indexing.html#returning-a-view-versus-a-copy\n",
      "  left_df[f'estimated_time_{name.lower().replace(\" \", \"_\")}'] = pred\n",
      "C:\\Users\\Allyssa\\AppData\\Local\\Temp\\ipykernel_28400\\2191950162.py:49: SettingWithCopyWarning: \n",
      "A value is trying to be set on a copy of a slice from a DataFrame.\n",
      "Try using .loc[row_indexer,col_indexer] = value instead\n",
      "\n",
      "See the caveats in the documentation: https://pandas.pydata.org/pandas-docs/stable/user_guide/indexing.html#returning-a-view-versus-a-copy\n",
      "  left_df[f'estimated_time_{name.lower().replace(\" \", \"_\")}'] = pred\n",
      "C:\\Users\\Allyssa\\AppData\\Local\\Temp\\ipykernel_28400\\2191950162.py:49: SettingWithCopyWarning: \n",
      "A value is trying to be set on a copy of a slice from a DataFrame.\n",
      "Try using .loc[row_indexer,col_indexer] = value instead\n",
      "\n",
      "See the caveats in the documentation: https://pandas.pydata.org/pandas-docs/stable/user_guide/indexing.html#returning-a-view-versus-a-copy\n",
      "  left_df[f'estimated_time_{name.lower().replace(\" \", \"_\")}'] = pred\n",
      "C:\\Users\\Allyssa\\AppData\\Local\\Temp\\ipykernel_28400\\2191950162.py:49: SettingWithCopyWarning: \n",
      "A value is trying to be set on a copy of a slice from a DataFrame.\n",
      "Try using .loc[row_indexer,col_indexer] = value instead\n",
      "\n",
      "See the caveats in the documentation: https://pandas.pydata.org/pandas-docs/stable/user_guide/indexing.html#returning-a-view-versus-a-copy\n",
      "  left_df[f'estimated_time_{name.lower().replace(\" \", \"_\")}'] = pred\n",
      "C:\\Users\\Allyssa\\AppData\\Local\\Temp\\ipykernel_28400\\2191950162.py:49: SettingWithCopyWarning: \n",
      "A value is trying to be set on a copy of a slice from a DataFrame.\n",
      "Try using .loc[row_indexer,col_indexer] = value instead\n",
      "\n",
      "See the caveats in the documentation: https://pandas.pydata.org/pandas-docs/stable/user_guide/indexing.html#returning-a-view-versus-a-copy\n",
      "  left_df[f'estimated_time_{name.lower().replace(\" \", \"_\")}'] = pred\n"
     ]
    }
   ],
   "source": [
    "import pandas as pd\n",
    "from sklearn.model_selection import train_test_split\n",
    "from sklearn.preprocessing import StandardScaler\n",
    "from sklearn.linear_model import LinearRegression\n",
    "from sklearn.ensemble import RandomForestRegressor, GradientBoostingRegressor\n",
    "from sklearn.neural_network import MLPRegressor\n",
    "from sklearn.svm import SVR\n",
    "from sklearn.metrics import mean_squared_error\n",
    "\n",
    "# df is cleaned dataset\n",
    "left_df = df[df['left'] == 1]  # Filter for employees who have left\n",
    "\n",
    "# Split the dataset into features (X) and target variable (y)\n",
    "X = left_df.drop(columns=['time_spend_company'])\n",
    "y = left_df['time_spend_company']\n",
    "\n",
    "# Split the data into training and testing sets\n",
    "X_train, X_test, y_train, y_test = train_test_split(X, y, test_size=0.2, random_state=42)\n",
    "\n",
    "# Feature Scaling\n",
    "scaler = StandardScaler()\n",
    "X_train_scaled = scaler.fit_transform(X_train)\n",
    "X_test_scaled = scaler.transform(X_test)\n",
    "\n",
    "# Initialize models\n",
    "models = {\n",
    "    'Linear Regression': LinearRegression(),\n",
    "    'Random Forest Regression': RandomForestRegressor(random_state=42),\n",
    "    'Gradient Boosting Regression': GradientBoostingRegressor(random_state=42),\n",
    "    'Neural Network Regression': MLPRegressor(max_iter=2000,random_state=42),\n",
    "    'Support Vector Regression': SVR()\n",
    "}\n",
    "\n",
    "# Dictionary to hold predictions\n",
    "predictions = {}\n",
    "rmse_values = {}\n",
    "\n",
    "# Train and predict with each model\n",
    "for name, model in models.items():\n",
    "    model.fit(X_train_scaled, y_train)\n",
    "    y_pred = model.predict(X_test_scaled)\n",
    "    rmse = mean_squared_error(y_test, y_pred, squared=False)\n",
    "    rmse_values[name] = rmse\n",
    "    print(f\"{name} - Root Mean Squared Error: {rmse}\")\n",
    "    predictions[name] = model.predict(scaler.transform(X))  # Predict on the entire dataset\n",
    "\n",
    "# Add estimated times back to the DataFrame\n",
    "for name, pred in predictions.items():\n",
    "    left_df[f'estimated_time_{name.lower().replace(\" \", \"_\")}'] = pred\n",
    "\n",
    "# Print the first five rows of the updated DataFrame\n",
    "# print(left_df.tail(5))"
   ]
  },
  {
   "cell_type": "code",
   "execution_count": 36,
   "metadata": {},
   "outputs": [
    {
     "data": {
      "image/png": "[encoded data removed]",
      "text/plain": [
       "<Figure size 1000x500 with 1 Axes>"
      ]
     },
     "metadata": {},
     "output_type": "display_data"
    }
   ],
   "source": [
    "# Visualization\n",
    "plt.figure(figsize=[10,5])  # Set the figure size for better readability\n",
    "plt.bar(rmse_values.keys(), rmse_values.values(), color='skyblue')  # Create a bar chart\n",
    "plt.title('Model Performance Comparison (RMSE)')  # Title of the plot\n",
    "plt.ylabel('Root Mean Squared Error')  # Y-axis label\n",
    "plt.xticks(rotation=45)  # Rotate model names for better readability\n",
    "plt.show()  # Show the plot"
   ]
  },
  {
   "cell_type": "code",
   "execution_count": null,
   "metadata": {},
   "outputs": [],
   "source": []
  }
 ],
 "metadata": {
  "colab": {
   "provenance": []
  },
  "kernelspec": {
   "display_name": "Python 3 (ipykernel)",
   "language": "python",
   "name": "python3"
  },
  "language_info": {
   "codemirror_mode": {
    "name": "ipython",
    "version": 3
   },
   "file_extension": ".py",
   "mimetype": "text/x-python",
   "name": "python",
   "nbconvert_exporter": "python",
   "pygments_lexer": "ipython3",
   "version": "3.11.5"
  }
 },
 "nbformat": 4,
 "nbformat_minor": 1
}
