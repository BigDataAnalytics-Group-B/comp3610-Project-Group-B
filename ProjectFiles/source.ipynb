{
 "cells": [
  {
   "cell_type": "markdown",
   "metadata": {},
   "source": [
    "# BIG DATA ANALYTICS - Project - GROUP B\n",
    "\n",
    "## Group Members\n",
    "\n",
    "| Student Name | Student ID |\n",
    "|----------|----------|\n",
    "| Allyssa Sampath    | 816032362     | \n",
    "| Avinash Roopnarine    | 816029635     |\n",
    "| Jared Heeralal    | 816030252     | \n",
    "| Kimberly Moses   | 816031494     | \n"
   ]
  }
 ],
 "metadata": {
  "language_info": {
   "name": "python"
  }
 },
 "nbformat": 4,
 "nbformat_minor": 2
}
